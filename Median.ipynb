{
 "cells": [
  {
   "cell_type": "code",
   "execution_count": 1,
   "metadata": {
    "collapsed": false
   },
   "outputs": [
    {
     "name": "stdout",
     "output_type": "stream",
     "text": [
      "Populating the interactive namespace from numpy and matplotlib\n"
     ]
    }
   ],
   "source": [
    "import random as rd\n",
    "%pylab inline"
   ]
  },
  {
   "cell_type": "code",
   "execution_count": 2,
   "metadata": {
    "collapsed": true
   },
   "outputs": [],
   "source": [
    "def rand_nums_generator(n):\n",
    "    for _ in range(n):\n",
    "        yield rd.random()"
   ]
  },
  {
   "cell_type": "code",
   "execution_count": 3,
   "metadata": {
    "collapsed": true
   },
   "outputs": [],
   "source": [
    "from sortedcontainers import SortedSet"
   ]
  },
  {
   "cell_type": "code",
   "execution_count": 89,
   "metadata": {
    "collapsed": false
   },
   "outputs": [],
   "source": [
    "class MedianFinder():\n",
    "    def __init__(self, N, M):\n",
    "        self.gen = rand_nums_generator(N)\n",
    "        self.S = SortedSet()\n",
    "        self.M = M\n",
    "        self.N = N\n",
    "        self.l = 0\n",
    "        self.h = 0\n",
    "        for _ in range(self.M):\n",
    "            self.S.add(next(self.gen))\n",
    "    def process(self):\n",
    "        for a in self.gen:\n",
    "            if a <= self.S[0]:\n",
    "                self.l += 1\n",
    "            elif a >= self.S[-1]:\n",
    "                self.h += 1\n",
    "            elif self.h >= self.l:\n",
    "                if a in self.S: # a should be unique, otherwise we lose info\n",
    "                    a += 10**-14 # add very small num to be unique\n",
    "                self.S.add(a)\n",
    "                del self.S[0]\n",
    "                self.l += 1\n",
    "            else:\n",
    "                if a in self.S: # hack once again\n",
    "                    a += 10**-14\n",
    "                self.S.add(a)\n",
    "                del self.S[-1]\n",
    "                self.h += 1\n",
    "        it = int((self.N + 1) / 2 - self.l)\n",
    "        return (True, self.S[it]) if 0 <= it < self.M else (False,)"
   ]
  },
  {
   "cell_type": "markdown",
   "metadata": {},
   "source": [
    "Итак, алгоритм реализован, запустим его на следующих конфигурациях"
   ]
  },
  {
   "cell_type": "markdown",
   "metadata": {},
   "source": [
    "<ul>\n",
    "<li>M=sqrt(n)/10</li>\n",
    "<li>sqrt(n) / 2</li>\n",
    "<li>sqrt(n)</li>\n",
    "<li>2*sqrt(n)</li>\n",
    "<li>10*sqrt(n)</li>\n",
    "</ul>"
   ]
  },
  {
   "cell_type": "markdown",
   "metadata": {},
   "source": [
    "При этом используемое Т = 2^24, количестов запусков для каждой модификации = 20 "
   ]
  },
  {
   "cell_type": "markdown",
   "metadata": {},
   "source": [
    "В работоспособности убедился, попробовав пару примеров руками. Они модифицировали код MedianFinder и в отчёт я их не включал"
   ]
  },
  {
   "cell_type": "code",
   "execution_count": 90,
   "metadata": {
    "collapsed": true
   },
   "outputs": [],
   "source": [
    "import math"
   ]
  },
  {
   "cell_type": "code",
   "execution_count": 91,
   "metadata": {
    "collapsed": false
   },
   "outputs": [],
   "source": [
    "def test(N, M_func):\n",
    "    mf = MedianFinder(N, int(M_func(N)))\n",
    "    return mf.process()[0]"
   ]
  },
  {
   "cell_type": "code",
   "execution_count": 94,
   "metadata": {
    "collapsed": true
   },
   "outputs": [],
   "source": [
    "def test_t(N, M_func, times):\n",
    "    successes = 0\n",
    "    for _ in range(times):\n",
    "        successes += 1 if mf.process()[0] else 0\n",
    "    return float(successes) / times"
   ]
  },
  {
   "cell_type": "markdown",
   "metadata": {},
   "source": [
    "Для начала убедимся в работоспособности, позапускав по разу"
   ]
  },
  {
   "cell_type": "code",
   "execution_count": 92,
   "metadata": {
    "collapsed": false
   },
   "outputs": [
    {
     "data": {
      "text/plain": [
       "False"
      ]
     },
     "execution_count": 92,
     "metadata": {},
     "output_type": "execute_result"
    }
   ],
   "source": [
    "test(2**24, lambda n : math.sqrt(n) / 10)"
   ]
  },
  {
   "cell_type": "code",
   "execution_count": 97,
   "metadata": {
    "collapsed": false
   },
   "outputs": [
    {
     "data": {
      "text/plain": [
       "False"
      ]
     },
     "execution_count": 97,
     "metadata": {},
     "output_type": "execute_result"
    }
   ],
   "source": [
    "test(2**24, lambda n : math.sqrt(n) / 2)"
   ]
  },
  {
   "cell_type": "code",
   "execution_count": 96,
   "metadata": {
    "collapsed": false
   },
   "outputs": [
    {
     "data": {
      "text/plain": [
       "True"
      ]
     },
     "execution_count": 96,
     "metadata": {},
     "output_type": "execute_result"
    }
   ],
   "source": [
    "test(2**24, lambda n : math.sqrt(n))"
   ]
  },
  {
   "cell_type": "code",
   "execution_count": 95,
   "metadata": {
    "collapsed": false
   },
   "outputs": [
    {
     "data": {
      "text/plain": [
       "True"
      ]
     },
     "execution_count": 95,
     "metadata": {},
     "output_type": "execute_result"
    }
   ],
   "source": [
    "test(2**24, lambda n : math.sqrt(n) * 2)"
   ]
  },
  {
   "cell_type": "code",
   "execution_count": 93,
   "metadata": {
    "collapsed": false
   },
   "outputs": [
    {
     "data": {
      "text/plain": [
       "True"
      ]
     },
     "execution_count": 93,
     "metadata": {},
     "output_type": "execute_result"
    }
   ],
   "source": [
    "test(2**24, lambda n : math.sqrt(n) * 10)"
   ]
  },
  {
   "cell_type": "markdown",
   "metadata": {},
   "source": [
    "Результаты достаточно ожидаемые. Для того, чтобы оттестировать по 20 раз понадобиться чуть больше времени, эта часть появится в отчёте слегка после 24.00"
   ]
  },
  {
   "cell_type": "code",
   "execution_count": null,
   "metadata": {
    "collapsed": true
   },
   "outputs": [],
   "source": []
  }
 ],
 "metadata": {
  "kernelspec": {
   "display_name": "Python 3",
   "language": "python",
   "name": "python3"
  },
  "language_info": {
   "codemirror_mode": {
    "name": "ipython",
    "version": 3
   },
   "file_extension": ".py",
   "mimetype": "text/x-python",
   "name": "python",
   "nbconvert_exporter": "python",
   "pygments_lexer": "ipython3",
   "version": "3.4.3"
  }
 },
 "nbformat": 4,
 "nbformat_minor": 0
}
